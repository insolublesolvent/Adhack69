{
  "nbformat": 4,
  "nbformat_minor": 0,
  "metadata": {
    "colab": {
      "name": "Untitled22.ipynb",
      "version": "0.3.2",
      "provenance": [],
      "collapsed_sections": [],
      "include_colab_link": true
    },
    "kernelspec": {
      "name": "python3",
      "display_name": "Python 3"
    }
  },
  "cells": [
    {
      "cell_type": "markdown",
      "metadata": {
        "id": "view-in-github",
        "colab_type": "text"
      },
      "source": [
        "<a href=\"https://colab.research.google.com/github/insolublesolvent/Adhack69/blob/master/fire_detect.ipynb\" target=\"_parent\"><img src=\"https://colab.research.google.com/assets/colab-badge.svg\" alt=\"Open In Colab\"/></a>"
      ]
    },
    {
      "cell_type": "code",
      "metadata": {
        "id": "JJ3LicboiHPD",
        "colab_type": "code",
        "colab": {}
      },
      "source": [
        "import cv2\n",
        "import numpy as np\n",
        "from google.colab.patches import cv2_imshow \n",
        "video_file = \"a1.jpg\"\n",
        "\n",
        "video = cv2.VideoCapture(video_file)\n",
        "while True:\n",
        "    (grabbed, frame) = video.read()\n",
        "    if not grabbed:\n",
        "        break\n",
        "    blur = cv2.GaussianBlur(frame, (21, 21), 0)\n",
        "    hsv = cv2.cvtColor(blur, cv2.COLOR_BGR2HSV)\n",
        "    lower = [18, 50, 50]\n",
        "    upper = [35, 255, 255]\n",
        "    lower = np.array(lower, dtype=\"uint8\")\n",
        "    upper = np.array(upper, dtype=\"uint8\")\n",
        "    mask = cv2.inRange(hsv, lower, upper)\n",
        "    output = cv2.bitwise_and(frame, hsv, mask=mask)\n",
        "    cv2_imshow(output)\n",
        "    if cv2.waitKey(1) & 0xFF == ord('q'):\n",
        "        break\n",
        "cv2.destroyAllWindows()\n",
        "video.release()\n",
        "output.shape\n",
        "x=output.shape[0]\n",
        "y=output.shape[1]\n",
        "img=np.full((x,y),0)"
      ],
      "execution_count": 0,
      "outputs": []
    },
    {
      "cell_type": "code",
      "metadata": {
        "id": "m767L7CEiaCb",
        "colab_type": "code",
        "colab": {}
      },
      "source": [
        "#cv2_imshow(img1)\n",
        "if output != img:\n",
        "  print(\"call\")\n",
        "#else:\n",
        "#    print('call the function to call')"
      ],
      "execution_count": 0,
      "outputs": []
    }
  ]
}